{
  "nbformat": 4,
  "nbformat_minor": 0,
  "metadata": {
    "colab": {
      "provenance": []
    },
    "kernelspec": {
      "name": "python3",
      "display_name": "Python 3"
    },
    "language_info": {
      "name": "python"
    }
  },
  "cells": [
    {
      "cell_type": "markdown",
      "source": [
        "**Heuristic Search - Problem Statement**\n",
        "\n",
        "Multiple bombings have been sighted in different locations of the Hyderabad. Each located at position (xi, yi), having possible casualty counts of ci. Bomb at each location has a time ti to go off. The city has only a single bomb squad team. Time taken to diffuse a bomb is constant. The time taken by the team to reach from a place to another place is proportional to the distance between the two points.\n",
        "Your task is to design a search algorithm with proper heuristics that may help in minimising the casualty count. Reason out why you have picked certain heuristic. Analyse the space and time complexity of your algorithm\n",
        "\n"
      ],
      "metadata": {
        "id": "qVqbIm9aUhgY"
      }
    },
    {
      "cell_type": "markdown",
      "source": [
        "**Code**"
      ],
      "metadata": {
        "id": "Ue2Tug31IMQS"
      }
    },
    {
      "cell_type": "code",
      "source": [
        "from heapq import heappush, heappop"
      ],
      "metadata": {
        "id": "oTr_HoykS9hJ"
      },
      "execution_count": null,
      "outputs": []
    },
    {
      "cell_type": "markdown",
      "source": [
        "**Function to calculate distance between two locations**"
      ],
      "metadata": {
        "id": "Y1dlD62kIRmM"
      }
    },
    {
      "cell_type": "code",
      "source": [
        "def distance(current_node, next_node):\n",
        "    return int(abs(current_node[0]-next_node[0])+abs(current_node[1]-next_node[1]))"
      ],
      "metadata": {
        "id": "Jh6Xid7sdodo"
      },
      "execution_count": null,
      "outputs": []
    },
    {
      "cell_type": "markdown",
      "source": [
        "**Function to calculate the time that will remain for a bomb to diffuse at a particular location if we reach there from our current location**"
      ],
      "metadata": {
        "id": "vFstlJsvIuDZ"
      }
    },
    {
      "cell_type": "code",
      "source": [
        "def time_remaining(current_position, next_node,time_rem):\n",
        "    return time_rem - distance(current_position, next_node)"
      ],
      "metadata": {
        "id": "a5r98-NNB-2U"
      },
      "execution_count": null,
      "outputs": []
    },
    {
      "cell_type": "markdown",
      "source": [],
      "metadata": {
        "id": "WMlc2Npto2OY"
      }
    },
    {
      "cell_type": "code",
      "source": [
        "def heuristic_function(current_position, neighbours, time_rem, blast_times, casualty_counts):\n",
        "    heuristic_values = []\n",
        "    #IF CURRENT POSITION IS STARTING POSITION (0,0)\n",
        "    if current_position==[0,0]:\n",
        "        for i in range(len(neighbours)):\n",
        "            distance_val = distance(current_position, neighbours[i])\n",
        "            #IF TIME TO REACH IS LESS THAN TIME REMAINING FOR BOMB TO DIFFUSE ONLY THEN WE CAN REACH THERE AND SUCCESSFULLY DIFFUSE BOMB\n",
        "            #HERE TIME TO REACH IS PROPORTIONAL TO DISTANCE TO BE COVERED\n",
        "            if  distance_val <= time_rem[i]:\n",
        "                val = (casualty_counts[i]) / (distance_val + 1)\n",
        "                heuristic_values.append([val,neighbours[i]])\n",
        "    else:\n",
        "        for i in range(len(neighbours)):\n",
        "            distance_val = distance(current_position, neighbours[i])\n",
        "            if  distance_val <= time_rem[i]:\n",
        "                val = ((casualty_counts[i]) / (distance_val)) * (1-(time_remaining(current_position, neighbours[i], time_rem[i])/ blast_times[i]))\n",
        "                heuristic_values.append([val,neighbours[i]])\n",
        "    return heuristic_values"
      ],
      "metadata": {
        "id": "WdKKkvlwUwY2"
      },
      "execution_count": null,
      "outputs": []
    },
    {
      "cell_type": "markdown",
      "source": [
        "**The main function used to calculate the optimal path to be followed to minimize casualities**"
      ],
      "metadata": {
        "id": "ZbGh7bK9J3Q0"
      }
    },
    {
      "cell_type": "code",
      "source": [
        "def defuse_bombs(positions, blast_times, casualty_counts):\n",
        "    priority_queue = []\n",
        "    visited = []\n",
        "    neighbours = positions\n",
        "    total_ppl_saved = 0\n",
        "    time_rem=blast_times\n",
        "    #CALCULATING HEURISTICS FOR ALL NEIGHBOURS FROM START POSITION (0,0) AND PUSHING THE VALUES TO A MAX HEAP.\n",
        "    heuristics=heuristic_function([0,0],neighbours,time_rem,blast_times,casualty_counts)\n",
        "    for i in heuristics:\n",
        "      heappush(priority_queue, [-i[0], i[1]])\n",
        "    previous_loc=[0,0]\n",
        "    print(\"Path:[0,0]-->\",end=\"\")\n",
        "    while priority_queue:\n",
        "        #POP FROM MAX HEAP\n",
        "        val, current_location = heappop(priority_queue)\n",
        "        visited.append(current_location)\n",
        "        #FIND THE INDEX OF CURRENT LOCATION IN THE ACTUAL LIST AND DELETE THE CORRESPONDING VALUES FROM NEIGHBOURS AND TIME_REM\n",
        "        ind=neighbours.index(current_location)\n",
        "        neighbours.remove(neighbours[ind])\n",
        "        time_rem.remove(time_rem[ind])\n",
        "        #UPDATING TIME REMAINING FOR OTHER BOMBS AFTER DIFFUSING CURRENT BOMB\n",
        "        for j in range(len(time_rem)):\n",
        "          time_rem[j]=time_rem[j]-distance(current_location,previous_loc)\n",
        "        #UPDATING PEOPLE SAVED AND DELETING THE VALUE FROM CASUALITY_COUNT\n",
        "        total_ppl_saved += casualty_counts[ind]\n",
        "        casualty_counts.remove(casualty_counts[ind])\n",
        "        #CALCULATING HEURISTICS FOR OTHER NEIGHBOURS FROM CURRENT LOCATION\n",
        "        heuristics=heuristic_function(current_location,neighbours,time_rem,blast_times,casualty_counts)\n",
        "        print(current_location,\"-->\",end='')\n",
        "        #IF LEN(HEURISTICS)=0 IMPLIES NO OTHER LOCATION CAN BE REACHED ON TIME SO WE BREAK THE LOOP\n",
        "        if len(heuristics)==0:\n",
        "          break\n",
        "        #ELSE REFILL THE PRIORITY QUEUE WITH NEW HEURISTICS\n",
        "        priority_queue=[]\n",
        "        for i in heuristics:\n",
        "          heappush(priority_queue, [-i[0],i[1]])\n",
        "        previous_loc=current_location\n",
        "\n",
        "    print(\"end\")\n",
        "    return total_ppl_saved"
      ],
      "metadata": {
        "id": "e91RL_l2BcoI"
      },
      "execution_count": null,
      "outputs": []
    },
    {
      "cell_type": "markdown",
      "source": [
        "**Test Cases**\n",
        "\n",
        "**Case 1: Few Bombs Diffused**"
      ],
      "metadata": {
        "id": "n4u_8wUZKPN3"
      }
    },
    {
      "cell_type": "code",
      "source": [
        "positions = [[1,2],[4,7],[3,1]]\n",
        "blast_times = [5,8,3]\n",
        "casualty_counts = [10,5,7]\n",
        "sumu=sum(casualty_counts)\n",
        "ppl_saved=defuse_bombs(positions, blast_times, casualty_counts)\n",
        "print(\"Total_ppl:\",sumu)\n",
        "print(\"People saved:\",ppl_saved)\n",
        "print(\"No of Casualties:\",sumu-ppl_saved)"
      ],
      "metadata": {
        "colab": {
          "base_uri": "https://localhost:8080/"
        },
        "id": "joO0MbHGjAzz",
        "outputId": "cb598c34-e3cc-4a6c-f091-ba6da2f6e27a"
      },
      "execution_count": null,
      "outputs": [
        {
          "output_type": "stream",
          "name": "stdout",
          "text": [
            "Path:[0,0]-->[1, 2] -->end\n",
            "Total_ppl: 22\n",
            "People saved: 10\n",
            "No of Casualties: 12\n"
          ]
        }
      ]
    },
    {
      "cell_type": "code",
      "source": [
        "positions = [[3,5],[7,2],[10,8]]\n",
        "blast_times = [10,15,20]\n",
        "casualty_counts = [50,30,20]\n",
        "sumu=sum(casualty_counts)\n",
        "ppl_saved=defuse_bombs(positions, blast_times, casualty_counts)\n",
        "print(\"Total_ppl:\",sumu)\n",
        "print(\"People saved:\",ppl_saved)\n",
        "print(\"No of Casualties:\",sumu-ppl_saved)"
      ],
      "metadata": {
        "colab": {
          "base_uri": "https://localhost:8080/"
        },
        "id": "B1ZbvnqtAuN_",
        "outputId": "9b3630f6-c188-4ce6-97a4-198b14703937"
      },
      "execution_count": null,
      "outputs": [
        {
          "output_type": "stream",
          "name": "stdout",
          "text": [
            "Path:[0,0]-->[3, 5] -->[7, 2] -->end\n",
            "Total_ppl: 100\n",
            "People saved: 80\n",
            "No of Casualties: 20\n"
          ]
        }
      ]
    },
    {
      "cell_type": "markdown",
      "source": [
        "**Case 2: All Bombs Diffused**"
      ],
      "metadata": {
        "id": "G20gYFfCKYt-"
      }
    },
    {
      "cell_type": "code",
      "source": [
        "positions = [[1,1],[10,7],[3,1]]\n",
        "blast_times = [5,26,9]\n",
        "casualty_counts = [100,2,7]\n",
        "sumu=sum(casualty_counts)\n",
        "ppl_saved=defuse_bombs(positions, blast_times, casualty_counts)\n",
        "print(\"Total_ppl:\",sumu)\n",
        "print(\"People saved:\",ppl_saved)\n",
        "print(\"No of Casualties:\",sumu-ppl_saved)"
      ],
      "metadata": {
        "colab": {
          "base_uri": "https://localhost:8080/"
        },
        "id": "OWG23jxWEerA",
        "outputId": "f4d40b5e-76d8-45eb-d372-fe7a4f9369c5"
      },
      "execution_count": null,
      "outputs": [
        {
          "output_type": "stream",
          "name": "stdout",
          "text": [
            "Path:[0,0]-->[1, 1] -->[3, 1] -->[10, 7] -->end\n",
            "Total_ppl: 109\n",
            "People saved: 109\n",
            "No of Casualties: 0\n"
          ]
        }
      ]
    },
    {
      "cell_type": "code",
      "source": [
        "positions = [[5, 0], [10, 0], [15, 0]]\n",
        "blast_times = [15, 20, 25]\n",
        "casualty_counts = [30, 20, 10]\n",
        "sumu=sum(casualty_counts)\n",
        "ppl_saved=defuse_bombs(positions, blast_times, casualty_counts)\n",
        "print(\"Total_ppl:\",sumu)\n",
        "print(\"People saved:\",ppl_saved)\n",
        "print(\"No of Casualties:\",sumu-ppl_saved)"
      ],
      "metadata": {
        "colab": {
          "base_uri": "https://localhost:8080/"
        },
        "id": "H-eMfgFp9WZg",
        "outputId": "f95b2402-43a8-4363-e659-d7b5426324f9"
      },
      "execution_count": null,
      "outputs": [
        {
          "output_type": "stream",
          "name": "stdout",
          "text": [
            "Path:[0,0]-->[5, 0] -->[10, 0] -->[15, 0] -->end\n",
            "Total_ppl: 60\n",
            "People saved: 60\n",
            "No of Casualties: 0\n"
          ]
        }
      ]
    },
    {
      "cell_type": "markdown",
      "source": [
        "**Case 3: No Bombs Diffused**"
      ],
      "metadata": {
        "id": "CxCMqm8F1x43"
      }
    },
    {
      "cell_type": "code",
      "source": [
        "positions = [[21, 21], [23, 23]]\n",
        "blast_times = [20,25]\n",
        "casualty_counts = [30,20]\n",
        "sumu=sum(casualty_counts)\n",
        "ppl_saved=defuse_bombs(positions, blast_times, casualty_counts)\n",
        "print(\"Total_ppl:\",sumu)\n",
        "print(\"People saved:\",ppl_saved)\n",
        "print(\"No of Casualties:\",sumu-ppl_saved)"
      ],
      "metadata": {
        "id": "E7ISMkIGsIlm",
        "colab": {
          "base_uri": "https://localhost:8080/"
        },
        "outputId": "0f8a3096-1e1b-45bf-9e41-a984f814372a"
      },
      "execution_count": null,
      "outputs": [
        {
          "output_type": "stream",
          "name": "stdout",
          "text": [
            "Path:[0,0]-->end\n",
            "Total_ppl: 50\n",
            "People saved: 0\n",
            "No of Casualties: 50\n"
          ]
        }
      ]
    },
    {
      "cell_type": "code",
      "source": [
        "positions = [[5, 5], [10, 10], [15, 15]]\n",
        "blast_times = [3,4,5]\n",
        "casualty_counts = [50,30,20,10]\n",
        "sumu=sum(casualty_counts)\n",
        "ppl_saved=defuse_bombs(positions, blast_times, casualty_counts)\n",
        "print(\"Total_ppl:\",sumu)\n",
        "print(\"People saved:\",ppl_saved)\n",
        "print(\"No of Casualties:\",sumu-ppl_saved)"
      ],
      "metadata": {
        "id": "LijEwlg9Ayg5",
        "outputId": "b9034e0f-6db8-4ca5-ba42-051eef27d1ef",
        "colab": {
          "base_uri": "https://localhost:8080/"
        }
      },
      "execution_count": null,
      "outputs": [
        {
          "output_type": "stream",
          "name": "stdout",
          "text": [
            "Path:[0,0]-->end\n",
            "Total_ppl: 110\n",
            "People saved: 0\n",
            "No of Casualties: 110\n"
          ]
        }
      ]
    }
  ]
}
